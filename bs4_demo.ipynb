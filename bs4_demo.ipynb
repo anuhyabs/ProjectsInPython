{
  "nbformat": 4,
  "nbformat_minor": 0,
  "metadata": {
    "kernelspec": {
      "display_name": "Python 3",
      "language": "python",
      "name": "python3"
    },
    "language_info": {
      "codemirror_mode": {
        "name": "ipython",
        "version": 3
      },
      "file_extension": ".py",
      "mimetype": "text/x-python",
      "name": "python",
      "nbconvert_exporter": "python",
      "pygments_lexer": "ipython3",
      "version": "3.7.6"
    },
    "colab": {
      "name": "bs4_demo.ipynb",
      "provenance": [],
      "toc_visible": true,
      "include_colab_link": true
    }
  },
  "cells": [
    {
      "cell_type": "markdown",
      "metadata": {
        "id": "view-in-github",
        "colab_type": "text"
      },
      "source": [
        "<a href=\"https://colab.research.google.com/github/anuhyabs/Python/blob/master/bs4_demo.ipynb\" target=\"_parent\"><img src=\"https://colab.research.google.com/assets/colab-badge.svg\" alt=\"Open In Colab\"/></a>"
      ]
    },
    {
      "cell_type": "markdown",
      "metadata": {
        "id": "Df_O7grtUwE2",
        "colab_type": "text"
      },
      "source": [
        "# Parsing a Page with BeautifulSoup"
      ]
    },
    {
      "cell_type": "code",
      "metadata": {
        "id": "HfssHlsvUwE5",
        "colab_type": "code",
        "outputId": "ebf17db9-b7bd-4746-ff81-7079ff8df652",
        "colab": {
          "base_uri": "https://localhost:8080/",
          "height": 54
        }
      },
      "source": [
        "import requests\n",
        "page = requests.get(\"http://dataquestio.github.io/web-scraping-pages/simple.html\")\n",
        "page\n",
        "page.status_code\n",
        "page.content"
      ],
      "execution_count": 0,
      "outputs": [
        {
          "output_type": "execute_result",
          "data": {
            "text/plain": [
              "b'<!DOCTYPE html>\\n<html>\\n    <head>\\n        <title>A simple example page</title>\\n    </head>\\n    <body>\\n        <p>Here is some simple content for this page.</p>\\n    </body>\\n</html>'"
            ]
          },
          "metadata": {
            "tags": []
          },
          "execution_count": 23
        }
      ]
    },
    {
      "cell_type": "code",
      "metadata": {
        "id": "imsGOb0sUwFD",
        "colab_type": "code",
        "colab": {}
      },
      "source": [
        "from bs4 import BeautifulSoup"
      ],
      "execution_count": 0,
      "outputs": []
    },
    {
      "cell_type": "code",
      "metadata": {
        "id": "fp8T9yMWUwFI",
        "colab_type": "code",
        "colab": {}
      },
      "source": [
        "soup = BeautifulSoup(page.content,'html.parser')"
      ],
      "execution_count": 0,
      "outputs": []
    },
    {
      "cell_type": "code",
      "metadata": {
        "id": "tssvYmp0UwFS",
        "colab_type": "code",
        "outputId": "d6240af2-bc1c-489a-ccd4-1e9576691d9d",
        "colab": {
          "base_uri": "https://localhost:8080/",
          "height": 187
        }
      },
      "source": [
        "soup"
      ],
      "execution_count": 0,
      "outputs": [
        {
          "output_type": "execute_result",
          "data": {
            "text/plain": [
              "<!DOCTYPE html>\n",
              "\n",
              "<html>\n",
              "<head>\n",
              "<title>A simple example page</title>\n",
              "</head>\n",
              "<body>\n",
              "<p>Here is some simple content for this page.</p>\n",
              "</body>\n",
              "</html>"
            ]
          },
          "metadata": {
            "tags": []
          },
          "execution_count": 26
        }
      ]
    },
    {
      "cell_type": "code",
      "metadata": {
        "id": "i6_5EtUuUwFZ",
        "colab_type": "code",
        "outputId": "d4314765-c61c-44b9-bab6-7a96d6746577",
        "colab": {
          "base_uri": "https://localhost:8080/",
          "height": 238
        }
      },
      "source": [
        "print(soup.prettify())"
      ],
      "execution_count": 0,
      "outputs": [
        {
          "output_type": "stream",
          "text": [
            "<!DOCTYPE html>\n",
            "<html>\n",
            " <head>\n",
            "  <title>\n",
            "   A simple example page\n",
            "  </title>\n",
            " </head>\n",
            " <body>\n",
            "  <p>\n",
            "   Here is some simple content for this page.\n",
            "  </p>\n",
            " </body>\n",
            "</html>\n"
          ],
          "name": "stdout"
        }
      ]
    },
    {
      "cell_type": "code",
      "metadata": {
        "id": "PQ5TyWX5UwFe",
        "colab_type": "code",
        "outputId": "ae7ac3f7-8228-4769-8134-86387df40dac",
        "colab": {
          "base_uri": "https://localhost:8080/",
          "height": 153
        }
      },
      "source": [
        "list(soup.children)"
      ],
      "execution_count": 0,
      "outputs": [
        {
          "output_type": "execute_result",
          "data": {
            "text/plain": [
              "['html', '\\n', <html>\n",
              " <head>\n",
              " <title>A simple example page</title>\n",
              " </head>\n",
              " <body>\n",
              " <p>Here is some simple content for this page.</p>\n",
              " </body>\n",
              " </html>]"
            ]
          },
          "metadata": {
            "tags": []
          },
          "execution_count": 28
        }
      ]
    },
    {
      "cell_type": "code",
      "metadata": {
        "id": "ke761bpjUwFj",
        "colab_type": "code",
        "outputId": "f1b5c2b2-9b11-465f-8c52-e7b7f2ad2bc7",
        "colab": {
          "base_uri": "https://localhost:8080/",
          "height": 34
        }
      },
      "source": [
        "[type(item) for item in list(soup.children)]"
      ],
      "execution_count": 0,
      "outputs": [
        {
          "output_type": "execute_result",
          "data": {
            "text/plain": [
              "[bs4.element.Doctype, bs4.element.NavigableString, bs4.element.Tag]"
            ]
          },
          "metadata": {
            "tags": []
          },
          "execution_count": 29
        }
      ]
    },
    {
      "cell_type": "markdown",
      "metadata": {
        "id": "11diC2aTUwFo",
        "colab_type": "text"
      },
      "source": [
        "The following code shows how to navigate a page:"
      ]
    },
    {
      "cell_type": "code",
      "metadata": {
        "id": "dFrfbU4UUwFq",
        "colab_type": "code",
        "outputId": "a0bc16ce-00a6-4511-9ade-5b7bd65c2426",
        "colab": {
          "base_uri": "https://localhost:8080/",
          "height": 153
        }
      },
      "source": [
        "html = list(soup. children)[2]\n",
        "html"
      ],
      "execution_count": 0,
      "outputs": [
        {
          "output_type": "execute_result",
          "data": {
            "text/plain": [
              "<html>\n",
              "<head>\n",
              "<title>A simple example page</title>\n",
              "</head>\n",
              "<body>\n",
              "<p>Here is some simple content for this page.</p>\n",
              "</body>\n",
              "</html>"
            ]
          },
          "metadata": {
            "tags": []
          },
          "execution_count": 30
        }
      ]
    },
    {
      "cell_type": "code",
      "metadata": {
        "id": "CdiQthhkUwFv",
        "colab_type": "code",
        "outputId": "9b742ca6-4cb6-45cb-e66d-753b4f233415",
        "colab": {
          "base_uri": "https://localhost:8080/",
          "height": 102
        }
      },
      "source": [
        "list(html.children)"
      ],
      "execution_count": 0,
      "outputs": [
        {
          "output_type": "execute_result",
          "data": {
            "text/plain": [
              "['\\n', <head>\n",
              " <title>A simple example page</title>\n",
              " </head>, '\\n', <body>\n",
              " <p>Here is some simple content for this page.</p>\n",
              " </body>, '\\n']"
            ]
          },
          "metadata": {
            "tags": []
          },
          "execution_count": 31
        }
      ]
    },
    {
      "cell_type": "code",
      "metadata": {
        "id": "qTItl5kGUwFz",
        "colab_type": "code",
        "outputId": "1e0e2ad5-e9da-49c5-a5d9-b7d3d69ca701",
        "colab": {
          "base_uri": "https://localhost:8080/",
          "height": 68
        }
      },
      "source": [
        "body = list(html.children)[3]\n",
        "body"
      ],
      "execution_count": 0,
      "outputs": [
        {
          "output_type": "execute_result",
          "data": {
            "text/plain": [
              "<body>\n",
              "<p>Here is some simple content for this page.</p>\n",
              "</body>"
            ]
          },
          "metadata": {
            "tags": []
          },
          "execution_count": 32
        }
      ]
    },
    {
      "cell_type": "code",
      "metadata": {
        "id": "6MUwBNcBUwF4",
        "colab_type": "code",
        "outputId": "5a9fe62d-bd38-46d0-8b43-f3c43b34631c",
        "colab": {
          "base_uri": "https://localhost:8080/",
          "height": 34
        }
      },
      "source": [
        "list(body.children)"
      ],
      "execution_count": 0,
      "outputs": [
        {
          "output_type": "execute_result",
          "data": {
            "text/plain": [
              "['\\n', <p>Here is some simple content for this page.</p>, '\\n']"
            ]
          },
          "metadata": {
            "tags": []
          },
          "execution_count": 33
        }
      ]
    },
    {
      "cell_type": "code",
      "metadata": {
        "id": "aKY-fDo5UwF-",
        "colab_type": "code",
        "outputId": "da064a12-5806-44cd-a559-61a3308b1329",
        "colab": {
          "base_uri": "https://localhost:8080/",
          "height": 34
        }
      },
      "source": [
        "p = list(body.children)[1]\n",
        "p"
      ],
      "execution_count": 0,
      "outputs": [
        {
          "output_type": "execute_result",
          "data": {
            "text/plain": [
              "<p>Here is some simple content for this page.</p>"
            ]
          },
          "metadata": {
            "tags": []
          },
          "execution_count": 34
        }
      ]
    },
    {
      "cell_type": "code",
      "metadata": {
        "id": "aA7UxW5GUwGI",
        "colab_type": "code",
        "outputId": "9a1a7fb8-02d7-4820-bddc-a4253fb45a89",
        "colab": {
          "base_uri": "https://localhost:8080/",
          "height": 34
        }
      },
      "source": [
        "p.get_text()"
      ],
      "execution_count": 0,
      "outputs": [
        {
          "output_type": "execute_result",
          "data": {
            "text/plain": [
              "'Here is some simple content for this page.'"
            ]
          },
          "metadata": {
            "tags": []
          },
          "execution_count": 35
        }
      ]
    },
    {
      "cell_type": "markdown",
      "metadata": {
        "id": "Ba-_vb71UwGN",
        "colab_type": "text"
      },
      "source": [
        "The following code shows how to find all instances of a tag at once:"
      ]
    },
    {
      "cell_type": "code",
      "metadata": {
        "id": "TLzzgmYiUwGO",
        "colab_type": "code",
        "outputId": "4afd12e4-0c77-4328-90b4-fe6a403d1510",
        "colab": {
          "base_uri": "https://localhost:8080/",
          "height": 34
        }
      },
      "source": [
        "soup.find_all('p')"
      ],
      "execution_count": 0,
      "outputs": [
        {
          "output_type": "execute_result",
          "data": {
            "text/plain": [
              "[<p>Here is some simple content for this page.</p>]"
            ]
          },
          "metadata": {
            "tags": []
          },
          "execution_count": 36
        }
      ]
    },
    {
      "cell_type": "markdown",
      "metadata": {
        "id": "xIkTUqdPUwGS",
        "colab_type": "text"
      },
      "source": [
        "The find_all function returns a list, so we’ll have to loop through, or use list indexing, it to extract text:"
      ]
    },
    {
      "cell_type": "code",
      "metadata": {
        "id": "oUa66L79UwGT",
        "colab_type": "code",
        "outputId": "c593669d-0f16-4693-ea0c-221f291ec98f",
        "colab": {
          "base_uri": "https://localhost:8080/",
          "height": 34
        }
      },
      "source": [
        "soup.find_all('p')[0].get_text()"
      ],
      "execution_count": 0,
      "outputs": [
        {
          "output_type": "execute_result",
          "data": {
            "text/plain": [
              "'Here is some simple content for this page.'"
            ]
          },
          "metadata": {
            "tags": []
          },
          "execution_count": 37
        }
      ]
    },
    {
      "cell_type": "markdown",
      "metadata": {
        "id": "OAAQqmLvUwGX",
        "colab_type": "text"
      },
      "source": [
        "To find only the first instance of a tag, find method is used:"
      ]
    },
    {
      "cell_type": "code",
      "metadata": {
        "id": "4ZQYSeOgUwGY",
        "colab_type": "code",
        "outputId": "c9573c87-ffb9-44f8-9764-51d7309c3641",
        "colab": {
          "base_uri": "https://localhost:8080/",
          "height": 34
        }
      },
      "source": [
        "soup.find('p')"
      ],
      "execution_count": 0,
      "outputs": [
        {
          "output_type": "execute_result",
          "data": {
            "text/plain": [
              "<p>Here is some simple content for this page.</p>"
            ]
          },
          "metadata": {
            "tags": []
          },
          "execution_count": 38
        }
      ]
    },
    {
      "cell_type": "markdown",
      "metadata": {
        "id": "4sMuJW5kUwGf",
        "colab_type": "text"
      },
      "source": [
        "# Searching for tags by class and id"
      ]
    },
    {
      "cell_type": "code",
      "metadata": {
        "id": "D88OlzYfUwGh",
        "colab_type": "code",
        "outputId": "c080c88f-c9a6-4b1d-8cf7-87105a47c1c9",
        "colab": {
          "base_uri": "https://localhost:8080/",
          "height": 442
        }
      },
      "source": [
        "pages = requests.get(\"http://dataquestio.github.io/web-scraping-pages/ids_and_classes.html\")\n",
        "pages\n",
        "soup = BeautifulSoup(pages.content,'html.parser')\n",
        "soup"
      ],
      "execution_count": 0,
      "outputs": [
        {
          "output_type": "execute_result",
          "data": {
            "text/plain": [
              "<html>\n",
              "<head>\n",
              "<title>A simple example page</title>\n",
              "</head>\n",
              "<body>\n",
              "<div>\n",
              "<p class=\"inner-text first-item\" id=\"first\">\n",
              "                First paragraph.\n",
              "            </p>\n",
              "<p class=\"inner-text\">\n",
              "                Second paragraph.\n",
              "            </p>\n",
              "</div>\n",
              "<p class=\"outer-text first-item\" id=\"second\">\n",
              "<b>\n",
              "                First outer paragraph.\n",
              "            </b>\n",
              "</p>\n",
              "<p class=\"outer-text\">\n",
              "<b>\n",
              "                Second outer paragraph.\n",
              "            </b>\n",
              "</p>\n",
              "</body>\n",
              "</html>"
            ]
          },
          "metadata": {
            "tags": []
          },
          "execution_count": 39
        }
      ]
    },
    {
      "cell_type": "markdown",
      "metadata": {
        "id": "YqeyDdK3UwGl",
        "colab_type": "text"
      },
      "source": [
        "Searching for 'p' tag having class 'outer-text':"
      ]
    },
    {
      "cell_type": "code",
      "metadata": {
        "id": "oHysORIpUwGm",
        "colab_type": "code",
        "outputId": "d313e6d5-993b-4d07-90f4-ff3643623c3b",
        "colab": {
          "base_uri": "https://localhost:8080/",
          "height": 170
        }
      },
      "source": [
        "soup.find_all('p', class_='outer-text')"
      ],
      "execution_count": 0,
      "outputs": [
        {
          "output_type": "execute_result",
          "data": {
            "text/plain": [
              "[<p class=\"outer-text first-item\" id=\"second\">\n",
              " <b>\n",
              "                 First outer paragraph.\n",
              "             </b>\n",
              " </p>, <p class=\"outer-text\">\n",
              " <b>\n",
              "                 Second outer paragraph.\n",
              "             </b>\n",
              " </p>]"
            ]
          },
          "metadata": {
            "tags": []
          },
          "execution_count": 40
        }
      ]
    },
    {
      "cell_type": "markdown",
      "metadata": {
        "id": "f0Q4KEnkUwGp",
        "colab_type": "text"
      },
      "source": [
        "Seaching for any tag having class 'outer-text':"
      ]
    },
    {
      "cell_type": "code",
      "metadata": {
        "id": "HKcbeobWUwGq",
        "colab_type": "code",
        "outputId": "4ebd0d7d-5c5f-4b55-fba6-328b984fd17c",
        "colab": {
          "base_uri": "https://localhost:8080/",
          "height": 170
        }
      },
      "source": [
        "soup.find_all(class_='outer-text')"
      ],
      "execution_count": 0,
      "outputs": [
        {
          "output_type": "execute_result",
          "data": {
            "text/plain": [
              "[<p class=\"outer-text first-item\" id=\"second\">\n",
              " <b>\n",
              "                 First outer paragraph.\n",
              "             </b>\n",
              " </p>, <p class=\"outer-text\">\n",
              " <b>\n",
              "                 Second outer paragraph.\n",
              "             </b>\n",
              " </p>]"
            ]
          },
          "metadata": {
            "tags": []
          },
          "execution_count": 41
        }
      ]
    },
    {
      "cell_type": "markdown",
      "metadata": {
        "id": "Yf3QCMD-UwGu",
        "colab_type": "text"
      },
      "source": [
        "Searching for elements by id:"
      ]
    },
    {
      "cell_type": "code",
      "metadata": {
        "id": "ZskzDSFxUwGv",
        "colab_type": "code",
        "outputId": "9ee155b5-ab59-47d6-86ef-715a832cd119",
        "colab": {
          "base_uri": "https://localhost:8080/",
          "height": 68
        }
      },
      "source": [
        "soup.find_all(id=\"first\")"
      ],
      "execution_count": 0,
      "outputs": [
        {
          "output_type": "execute_result",
          "data": {
            "text/plain": [
              "[<p class=\"inner-text first-item\" id=\"first\">\n",
              "                 First paragraph.\n",
              "             </p>]"
            ]
          },
          "metadata": {
            "tags": []
          },
          "execution_count": 42
        }
      ]
    },
    {
      "cell_type": "markdown",
      "metadata": {
        "id": "w6-PVV8yUwGz",
        "colab_type": "text"
      },
      "source": [
        "# Examples of CSS Selectors\n",
        "1. p a — finds all a tags inside of a p tag.\n",
        "2. body p a — finds all a tags inside of a p tag inside of a body tag.\n",
        "3. html body — finds all body tags inside of an html tag.\n",
        "4. p.outer-text — finds all p tags with a class of outer-text.\n",
        "5. p#first — finds all p tags with an id of first.\n",
        "6. body p.outer-text — finds any p tags with a class of outer-text inside of a body tag."
      ]
    },
    {
      "cell_type": "markdown",
      "metadata": {
        "id": "F36vN0hUUwG0",
        "colab_type": "text"
      },
      "source": [
        "In BeautifulSoup, we can search for objects in a page via CSS Selectors using the \"select\" method. An example is as follows:\n",
        "\n",
        "Here we are finding all 'p' tags in our page that are inside of a div tag."
      ]
    },
    {
      "cell_type": "code",
      "metadata": {
        "id": "uvJYd1qGUwG1",
        "colab_type": "code",
        "outputId": "c5151a1e-4913-4472-ce14-599520e1fe7a",
        "colab": {
          "base_uri": "https://localhost:8080/",
          "height": 102
        }
      },
      "source": [
        "soup.select(\"div p\")"
      ],
      "execution_count": 0,
      "outputs": [
        {
          "output_type": "execute_result",
          "data": {
            "text/plain": [
              "[<p class=\"inner-text first-item\" id=\"first\">\n",
              "                 First paragraph.\n",
              "             </p>, <p class=\"inner-text\">\n",
              "                 Second paragraph.\n",
              "             </p>]"
            ]
          },
          "metadata": {
            "tags": []
          },
          "execution_count": 43
        }
      ]
    },
    {
      "cell_type": "markdown",
      "metadata": {
        "id": "rPkDUbh9UwG4",
        "colab_type": "text"
      },
      "source": [
        "Note: The \"select\" method also returns a list like \"find\" and \"find_all\" methods."
      ]
    }
  ]
}