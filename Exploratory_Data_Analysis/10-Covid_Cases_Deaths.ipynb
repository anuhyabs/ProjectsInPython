{
 "cells": [
  {
   "attachments": {},
   "cell_type": "markdown",
   "metadata": {},
   "source": [
    "# Covid Cases and Deaths\n",
    "\n",
    "### Data in Motion: Data Analysis Challenge 10"
   ]
  },
  {
   "attachments": {},
   "cell_type": "markdown",
   "metadata": {},
   "source": [
    "## Scenario\n",
    "You are a data analyst and you have been tasked with analyzing data related to COVID cases and deaths around the world. Your manager would like the following questions answered.\n",
    "\n",
    "## Dataset Link:\n",
    "https://www.kaggle.com/datasets/themrityunjaypathak/covid-cases-and-deaths-worldwide\n",
    "\n",
    "## Questions\n",
    "- Is there any missing data? If so, perform missing data treatment of your choice.\n",
    "- What are the data types? Looks like most of the numeric columns need to be changed. Convert them to floats and integers as necessary.\n",
    "- How many different countries had the virus?\n",
    "- Create a geographical plot of the distribution of deaths from around the world.\n",
    "- What are the top 5 countries in active cases?\n",
    "- What are the top 5 countries in total recoveries?\n",
    "- Create your own question and answer it.\n",
    "- Bonus: Create a dashboard with the important insights you find."
   ]
  },
  {
   "cell_type": "code",
   "execution_count": null,
   "metadata": {},
   "outputs": [],
   "source": []
  }
 ],
 "metadata": {
  "language_info": {
   "name": "python"
  },
  "orig_nbformat": 4
 },
 "nbformat": 4,
 "nbformat_minor": 2
}
