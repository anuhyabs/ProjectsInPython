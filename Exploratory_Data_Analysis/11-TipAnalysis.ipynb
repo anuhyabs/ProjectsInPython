{
 "cells": [
  {
   "attachments": {},
   "cell_type": "markdown",
   "metadata": {},
   "source": [
    "# Tip Analysis\n",
    "\n",
    "### Data in Motion: Data Ana;ysis Challenge 11"
   ]
  },
  {
   "attachments": {},
   "cell_type": "markdown",
   "metadata": {},
   "source": [
    "## Scenario\n",
    "You are a data analyst and you have been tasked with analyzing data related customer total bills at a local restaurant. Your manager would like the following questions answered.\n",
    "\n",
    "## Dataset Link\n",
    "https://raw.githubusercontent.com/guipsamora/pandas_exercises/master/07_Visualization/Tips/tips.csv\n",
    "\n",
    "## Questions\n",
    "- Delete the Unnamed 0 column\n",
    "- Plot the total_bill column histogram\n",
    "- Create a scatter plot presenting the relationship between total_bill and tip\n",
    "- Create one image with the relationship of total_bill, tip and size.\n",
    "- Present the relationship between days and total_bill value\n",
    "- Create a scatter plot with the day as the y-axis and tip as the x-axis, differ the dots by sex\n",
    "- Create a box plot presenting the total_bill per day differentiation the time (Dinner or Lunch)\n",
    "- Create two histograms of the tip value based for Dinner and Lunch. They must be side by side.\n",
    "- Create two scatterplots graphs, one for Male and another for Female, presenting the total_bill value and tip relationship, differing by smoker or no smoker"
   ]
  },
  {
   "cell_type": "code",
   "execution_count": null,
   "metadata": {},
   "outputs": [],
   "source": []
  }
 ],
 "metadata": {
  "language_info": {
   "name": "python"
  },
  "orig_nbformat": 4
 },
 "nbformat": 4,
 "nbformat_minor": 2
}
