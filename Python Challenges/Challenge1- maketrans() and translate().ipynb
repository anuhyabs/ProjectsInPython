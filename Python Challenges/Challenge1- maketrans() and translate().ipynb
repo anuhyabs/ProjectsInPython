{
 "cells": [
  {
   "cell_type": "code",
   "execution_count": null,
   "metadata": {},
   "outputs": [],
   "source": [
    "print('a')"
   ]
  },
  {
   "cell_type": "code",
   "execution_count": null,
   "metadata": {},
   "outputs": [],
   "source": [
    "str = ord('a') + 2\n",
    "chr(str)"
   ]
  },
  {
   "cell_type": "code",
   "execution_count": null,
   "metadata": {},
   "outputs": [],
   "source": [
    "input = \"abc de\"\n",
    "str = \"\"\n",
    "for index in input:\n",
    "    str += chr(ord(index) + 2)\n",
    "print(str)\n"
   ]
  },
  {
   "cell_type": "code",
   "execution_count": 1,
   "metadata": {},
   "outputs": [
    {
     "name": "stdout",
     "output_type": "stream",
     "text": [
      "string: g fmnc wms bgblr rpylqjyrc gr zw fylb. rfyrq ufyr amknsrcpq ypc dmp. bmgle gr gl zw fylb gq glcddgagclr ylb rfyr'q ufw rfgq rcvr gq qm jmle. sqgle qrpgle.kyicrpylq() gq pcamkkclbcb. lmu ynnjw ml rfc spj.\n",
      "i\"hope\"you\"didnt\"tr{nsl{te\"it\"|y\"h{nd0\"th{ts\"wh{t\"computers\"{re\"for0\"doing\"it\"in\"|y\"h{nd\"is\"inefficient\"{nd\"th{t)s\"why\"this\"text\"is\"so\"long0\"using\"string0m{ketr{ns*+\"is\"recommended0\"now\"{pply\"on\"the\"url0\n"
     ]
    }
   ],
   "source": [
    "encoded_str = input(\"string: \")\n",
    "decoded_str = \"\"\n",
    "for i in range(a,z):\n",
    "    pos = chr(ord(index))\n",
    "for index in encoded_str:\n",
    "    decoded_str += chr(ord(index) + 2)\n",
    "print(decoded_str)"
   ]
  },
  {
   "cell_type": "code",
   "execution_count": 2,
   "metadata": {},
   "outputs": [
    {
     "name": "stdout",
     "output_type": "stream",
     "text": [
      "i hope you didnt translate it by hand. thats what computers are for. doing it in by hand is inefficient and that's why this text is so long. using string.maketrans() is recommended. now apply on the url.\n",
      "ocr\n"
     ]
    }
   ],
   "source": [
    "str1 = \"abcdefghijklmnopqrstuvwxyz\"\n",
    "str2 = \"cdefghijklmnopqrstuvwxyzab\"\n",
    "txt = \"g fmnc wms bgblr rpylqjyrc gr zw fylb. rfyrq ufyr amknsrcpq ypc dmp. bmgle gr gl zw fylb gq glcddgagclr ylb rfyr'q ufw rfgq rcvr gq qm jmle. sqgle qrpgle.kyicrpylq() gq pcamkkclbcb. lmu ynnjw ml rfc spj.\"\n",
    "trans = txt.maketrans(str1,str2)\n",
    "print(txt.translate(trans))\n",
    "print(\"map\".translate(trans))"
   ]
  },
  {
   "cell_type": "markdown",
   "metadata": {},
   "source": [
    "Ans: ocr"
   ]
  },
  {
   "cell_type": "markdown",
   "metadata": {},
   "source": [
    "*Definition:*\n",
    "The maketrans() method returns a mapping table that can be used with the translate() method to replace specified characters.\n",
    "\n",
    "*Syntax:*\n",
    "    txt.maketrans(x,y,z)\n",
    "\n",
    "*Parameters:*\n",
    "1. x:\tRequired. If only one parameter is specified, this has to be a dictionary describing how to perform the replace. If two or more parameters are specified, this parameter has to be a string specifying the characters you want to replace.\n",
    "2. y:\tOptional. A string with the same length as parameter x. Each character in the first parameter will be replaced with the corresponding character in this string.\n",
    "3. z:\tOptional. A string describing which characters to remove from the original string.\n",
    "\n",
    "*Examples:*\n",
    "\n",
    "txt = \"Hello Anu\" <br> myTable = txt.maketrans(\"n\",\"p\") <br> print(myTable) --> {110:112} <br> Explanation: converts the characters to ascii code and maps the character to the other ascii code <br><br> print(txt.translate(myTable)) --> Hello Apu <br> Explanation: replaces character n with p <br><br> myTable1 = txt.maketrans(\"n\",\"p\",\"Hel\") <br> print(txt.translate(myTable1)) --> o Apu <br> Explanation: replace characters, and removes Hel from original string and all occurences of any of the characters anywhere in the string"
   ]
  },
  {
   "cell_type": "markdown",
   "metadata": {},
   "source": [
    "## Actual Solution:"
   ]
  },
  {
   "cell_type": "markdown",
   "metadata": {},
   "source": [
    "First, we load the text and create a translation table\n",
    "\n",
    ">>> import string\n",
    ">>> text = \"\"\"g fmnc wms bgblr rpylqjyrc gr zw fylb. rfyrq ufyr\n",
    "... amknsrcpq ypc dmp. bmgle gr gl zw fylb gq glcddgagclr ylb rfyr'q\n",
    " ... ufw rfgq rcvr gq qm jmle. sqgle qrpgle.kyicrpylq() gq pcamkkclbcb.\n",
    "... lmu ynnjw ml rfc spj.\"\"\"\n",
    ">>> table = string.maketrans(\n",
    "...   string.ascii_lowercase,\n",
    "...   string.ascii_lowercase[2:]+string.ascii_lowercase[:2])\n",
    "\n",
    "Now we apply the translation table on the string:\n",
    "\n",
    ">>> string.translate(text,table) \n",
    "\"i hope you didnt translate it by hand. thats what computers are for. \n",
    "doing it in by hand is inefficient and that's why this text is so long. \n",
    "using string.maketrans() is recommended. now apply on the url.\"\n",
    "\n",
    "Alternatively, just use the translate on the \"text\" variable:\n",
    "\n",
    ">>> text.translate(table)\n",
    "\"i hope you didnt translate it by hand. thats what computers are for. \n",
    "doing it in by hand is inefficient and that's why this text is so long. \n",
    "using string.maketrans() is recommended. now apply on the url.\"\n",
    "\n",
    "scholi: Solved without translate\n",
    "\n",
    "s=\"g fmnc wms bgblr rpylqjyrc gr zw fylb. rfyrq ufyr amknsrcpq ypc dmp. bmgle gr gl zw fylb gq glcddgagclr ylb rfyr'q ufw rfgq rcvr gq qm jmle. sqgle qrpgle.kyicrpylq() gq pcamkkclbcb.  lmu ynnjw ml rfc spj.\"\n",
    "o=\"\"\n",
    "for x in s:\n",
    "\tif ord(x)>=ord('a') and ord(x)<=ord('z'):\n",
    "\t\to+=chr((ord(x)+2-ord('a'))%26+ord('a'))\n",
    "\telse:\n",
    "\t\to+=x\n",
    "print o"
   ]
  },
  {
   "cell_type": "code",
   "execution_count": 8,
   "metadata": {},
   "outputs": [
    {
     "name": "stdout",
     "output_type": "stream",
     "text": [
      "i hope you didnt translate it by hand. thats what\n",
      "computers are for. doing it in by hand is inefficient and that's\n",
      "why this text is so long. using string.maketrans() is recommended.\n",
      "now apply on the url.\n"
     ]
    }
   ],
   "source": [
    "import string\n",
    "text = \"\"\"g fmnc wms bgblr rpylqjyrc gr zw fylb. rfyrq ufyr\n",
    "amknsrcpq ypc dmp. bmgle gr gl zw fylb gq glcddgagclr ylb rfyr'q\n",
    "ufw rfgq rcvr gq qm jmle. sqgle qrpgle.kyicrpylq() gq pcamkkclbcb.\n",
    "lmu ynnjw ml rfc spj.\"\"\"\n",
    "table = text.maketrans(\n",
    "    string.ascii_lowercase,\n",
    "    string.ascii_lowercase[2:]+string.ascii_lowercase[:2])\n",
    "print(text.translate(table)) "
   ]
  },
  {
   "cell_type": "code",
   "execution_count": 10,
   "metadata": {},
   "outputs": [
    {
     "name": "stdout",
     "output_type": "stream",
     "text": [
      "i hope you didnt translate it by hand. thats what computers are for. doing it in by hand is inefficient and that's why this text is so long. using string.maketrans() is recommended.  now apply on the url.\n"
     ]
    }
   ],
   "source": [
    "s=\"g fmnc wms bgblr rpylqjyrc gr zw fylb. rfyrq ufyr amknsrcpq ypc dmp. bmgle gr gl zw fylb gq glcddgagclr ylb rfyr'q ufw rfgq rcvr gq qm jmle. sqgle qrpgle.kyicrpylq() gq pcamkkclbcb.  lmu ynnjw ml rfc spj.\"\n",
    "o=\"\"\n",
    "for x in s:\n",
    "    if ord(x)>=ord('a') and ord(x)<=ord('z'):\n",
    "        o+=chr((ord(x)+2-ord('a'))%26+ord('a'))\n",
    "    else:\n",
    "        o+=x\n",
    "print (o)"
   ]
  },
  {
   "cell_type": "code",
   "execution_count": null,
   "metadata": {},
   "outputs": [],
   "source": []
  }
 ],
 "metadata": {
  "kernelspec": {
   "display_name": "Python 3",
   "language": "python",
   "name": "python3"
  },
  "language_info": {
   "codemirror_mode": {
    "name": "ipython",
    "version": 3
   },
   "file_extension": ".py",
   "mimetype": "text/x-python",
   "name": "python",
   "nbconvert_exporter": "python",
   "pygments_lexer": "ipython3",
   "version": "3.8.5"
  }
 },
 "nbformat": 4,
 "nbformat_minor": 4
}
